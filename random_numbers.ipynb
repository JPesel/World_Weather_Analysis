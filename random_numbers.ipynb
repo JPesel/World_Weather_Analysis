{
 "cells": [
  {
   "cell_type": "code",
   "execution_count": 1,
   "id": "25108210",
   "metadata": {},
   "outputs": [],
   "source": [
    "# Import the random module.\n",
    "import random"
   ]
  },
  {
   "cell_type": "code",
   "execution_count": 8,
   "id": "264c853a",
   "metadata": {},
   "outputs": [
    {
     "data": {
      "text/plain": [
       "39"
      ]
     },
     "execution_count": 8,
     "metadata": {},
     "output_type": "execute_result"
    }
   ],
   "source": [
    "random.randint(-90, 90)"
   ]
  },
  {
   "cell_type": "code",
   "execution_count": 11,
   "id": "91466815",
   "metadata": {},
   "outputs": [
    {
     "data": {
      "text/plain": [
       "[56.47708319234238,\n",
       " 79.85893855763055,\n",
       " -52.743180671182465,\n",
       " 84.73572185361076,\n",
       " -89.93607307951615,\n",
       " 23.685887025625515,\n",
       " 41.8642223275009,\n",
       " 68.56868037677361,\n",
       " -1.3195356722014158,\n",
       " -41.10845429660011]"
      ]
     },
     "execution_count": 11,
     "metadata": {},
     "output_type": "execute_result"
    }
   ],
   "source": [
    "x = 1\n",
    "latitudes = []\n",
    "while x < 11:\n",
    "    random_lat = random.randint(-90, 89) + random.random()\n",
    "    latitudes.append(random_lat)\n",
    "    x += 1\n",
    "\n",
    "latitudes"
   ]
  },
  {
   "cell_type": "code",
   "execution_count": 12,
   "id": "8b65cf42",
   "metadata": {},
   "outputs": [],
   "source": [
    "# Import the NumPy module.\n",
    "import numpy as np"
   ]
  },
  {
   "cell_type": "code",
   "execution_count": 14,
   "id": "44f9607a",
   "metadata": {},
   "outputs": [
    {
     "data": {
      "text/plain": [
       "array([-14.32956102,  58.81674636,  -6.64676666, -25.01582118,\n",
       "       -19.65120468,  78.44419086, -76.29653476, -13.37745559,\n",
       "         5.61800486, -66.03339921, -29.94806842,  30.73316385,\n",
       "        -7.35523724,  43.22590948,  63.91662585,  86.33202938,\n",
       "        75.29257401,  74.82918918,  16.88031319, -21.36395789,\n",
       "       -63.25299137,  19.22811854, -48.57443728, -81.1692134 ,\n",
       "        43.1707357 ,  28.62611435, -50.29890049,  59.05956025,\n",
       "       -59.59100549, -77.78710557, -46.70129494,  19.81732283,\n",
       "       -19.8820496 , -55.18361062,  58.44766741, -30.58373512,\n",
       "        53.92042461,  23.72907174,  -5.61665185,   0.91725322,\n",
       "        14.73535669, -70.03577755,  23.05803318,  42.3878069 ,\n",
       "        35.28199983,  21.52459413, -43.77488914,   8.68222034,\n",
       "        -2.37812395,  44.52818624])"
      ]
     },
     "execution_count": 14,
     "metadata": {},
     "output_type": "execute_result"
    }
   ],
   "source": [
    "np.random.uniform(-90.000, 90.000, size=50)"
   ]
  },
  {
   "cell_type": "code",
   "execution_count": 15,
   "id": "acb6f4a6",
   "metadata": {},
   "outputs": [],
   "source": [
    "# Import timeit.\n",
    "import timeit"
   ]
  },
  {
   "cell_type": "code",
   "execution_count": 16,
   "id": "642831ce",
   "metadata": {},
   "outputs": [
    {
     "name": "stdout",
     "output_type": "stream",
     "text": [
      "31.7 µs ± 5.07 µs per loop (mean ± std. dev. of 7 runs, 10000 loops each)\n"
     ]
    }
   ],
   "source": [
    "%timeit np.random.uniform(-90.000, 90.000, size=1500)\n"
   ]
  },
  {
   "cell_type": "code",
   "execution_count": 17,
   "id": "f1dff995",
   "metadata": {},
   "outputs": [
    {
     "name": "stdout",
     "output_type": "stream",
     "text": [
      "3.1 ms ± 81.7 µs per loop (mean ± std. dev. of 7 runs, 100 loops each)\n"
     ]
    }
   ],
   "source": [
    "def latitudes(size):\n",
    "    latitudes = []\n",
    "    x = 0\n",
    "    while x < (size):\n",
    "        random_lat = random.randint(-90, 90) + random.random()\n",
    "        latitudes.append(random_lat)\n",
    "        x += 1\n",
    "    return latitudes\n",
    "# Call the function with 1500.\n",
    "%timeit latitudes(1500)"
   ]
  },
  {
   "cell_type": "code",
   "execution_count": null,
   "id": "6ce3cbc0",
   "metadata": {},
   "outputs": [],
   "source": []
  }
 ],
 "metadata": {
  "kernelspec": {
   "display_name": "Python 3",
   "language": "python",
   "name": "python3"
  },
  "language_info": {
   "codemirror_mode": {
    "name": "ipython",
    "version": 3
   },
   "file_extension": ".py",
   "mimetype": "text/x-python",
   "name": "python",
   "nbconvert_exporter": "python",
   "pygments_lexer": "ipython3",
   "version": "3.7.10"
  }
 },
 "nbformat": 4,
 "nbformat_minor": 5
}
